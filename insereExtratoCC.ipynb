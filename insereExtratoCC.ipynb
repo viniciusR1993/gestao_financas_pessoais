{
 "cells": [
  {
   "cell_type": "markdown",
   "metadata": {},
   "source": [
    "# Importa Pacotes"
   ]
  },
  {
   "cell_type": "code",
   "execution_count": 1,
   "metadata": {},
   "outputs": [],
   "source": [
    "import os\n",
    "import re\n",
    "import locale\n",
    "import pandas as pd\n",
    "from gestao import ConectarAccess"
   ]
  },
  {
   "cell_type": "markdown",
   "metadata": {},
   "source": [
    "# Definição de variaveis e pré-produção"
   ]
  },
  {
   "cell_type": "code",
   "execution_count": null,
   "metadata": {},
   "outputs": [],
   "source": [
    "# Variáveis Definidas\n",
    "caminho_input = \"C:/Users/vinir/Downloads/\"\n",
    "caminho_backup = \"./Extrato da Conta Corrente/\"\n",
    "\n",
    "# Regex com o nome do arquivo, o primeiro grupo é o cartão e o segundo é mes da fatura\n",
    "mask_arquivos = [\n",
    "                 ('extrato.csv', '') \n",
    "                ]\n",
    "\n",
    "# Informações de base de dados\n",
    "tabela_extrato = '[extrato_cc]'\n",
    "tabela_regra = '[regra_conversao]'\n",
    "arquivo_base = 'GestaoFinanceira1'\n",
    "\n",
    "#Variaveis de desenvolvimento\n",
    "producao=True\n",
    "\n",
    "print(f\">> Execução em Produção: {producao}\")\n",
    "print(f\">> Pasta de Leitura dos arquivos de entrada: {caminho_input}\")\n",
    "print(f\">> Arquivo com a Base em Access: {arquivo_base}\")\n",
    "print(f\">> Tabela Com o Extrato da Conta Corrente: {tabela_extrato}\")\n",
    "print(f\">> Mascaras dos Arquivos: {', '.join([m[0] for m in mask_arquivos])}\")"
   ]
  },
  {
   "cell_type": "markdown",
   "metadata": {},
   "source": [
    "# Configuração do ambientes"
   ]
  },
  {
   "cell_type": "code",
   "execution_count": null,
   "metadata": {},
   "outputs": [],
   "source": [
    "# Essa configuração é para o datetime entender os meses como mês Brasil\n",
    "locale.setlocale(locale.LC_ALL, 'pt_BR.utf8')"
   ]
  },
  {
   "cell_type": "markdown",
   "metadata": {},
   "source": [
    "# Verificando arquivos presente na pasta"
   ]
  },
  {
   "cell_type": "code",
   "execution_count": null,
   "metadata": {},
   "outputs": [],
   "source": [
    "files = []\n",
    "for diretorio, subpastas, arquivos in os.walk(caminho_input):\n",
    "    for arquivo in arquivos:\n",
    "        for mask in mask_arquivos:\n",
    "            if re.match(mask[0], arquivo):\n",
    "                files.append(f\"{diretorio}{arquivo}\")\n",
    "                print(f'[INFO] Localizado arquivo {arquivo}')"
   ]
  },
  {
   "cell_type": "markdown",
   "metadata": {},
   "source": [
    "# Lendo Arquivos"
   ]
  },
  {
   "cell_type": "code",
   "execution_count": 6,
   "metadata": {},
   "outputs": [],
   "source": [
    "colunas = [\n",
    "            'Data_Lancamento',\n",
    "            'Dependencia_Origem',\n",
    "            'Historico',\n",
    "            'Data_Balancete',\n",
    "            'numero_documento',\n",
    "            'Valor',\n",
    "            'Col Vazia'\n",
    "]"
   ]
  },
  {
   "cell_type": "code",
   "execution_count": null,
   "metadata": {},
   "outputs": [],
   "source": [
    "df_files = []\n",
    "for file in files:\n",
    "    dados = pd.read_csv(file, names=colunas, encoding = \"ISO-8859-1\", skiprows=1)\n",
    "\n",
    "    dados['Codigo'] = dados.index\n",
    "    dados['Dependencia_Origem'] = dados['Dependencia_Origem'].fillna('')\n",
    "    dados['Data_Balancete'] = dados['Data_Balancete'].fillna('')\n",
    "    dados['Data_Lancamento'] = pd.to_datetime(dados['Data_Lancamento'], \n",
    "                                        format='%d/%m/%Y').apply(lambda x: x.strftime('%Y-%m-%d'))\n",
    "    mes_extrato = dados.iloc[len(dados)-1].Data_Lancamento.replace('-','')[:6]\n",
    "    dados['mes_extrato'] = mes_extrato\n",
    "    print(f'[INFO] Mês do extrato: {mes_extrato}')\n",
    "\n",
    "    df_files.append(dados)\n",
    "    \n",
    "    if producao:\n",
    "        file_destino = f'{caminho_backup}{mes_extrato}.csv'\n",
    "        print(f\"[INFO] Movendo arquivo {file} para pasta {file_destino}\")\n",
    "        if os.path.exists(file_destino):\n",
    "            os.remove(file_destino)\n",
    "        os.rename(file, file_destino)\n",
    "        "
   ]
  },
  {
   "cell_type": "code",
   "execution_count": 9,
   "metadata": {},
   "outputs": [],
   "source": [
    "df = pd.concat(df_files)\n",
    "\n",
    "df = df[[   'Codigo',\n",
    "            'Data_Lancamento',\n",
    "            'Dependencia_Origem',\n",
    "            'Historico',\n",
    "            'numero_documento',\n",
    "            'Valor',\n",
    "            'mes_extrato'\n",
    "]]"
   ]
  },
  {
   "cell_type": "markdown",
   "metadata": {},
   "source": [
    "# Ajustes dos dados\n",
    "### Insere Tipo de Historico"
   ]
  },
  {
   "cell_type": "code",
   "execution_count": 10,
   "metadata": {},
   "outputs": [],
   "source": [
    "# Lista de ajuste do Tipo de Historico\n",
    "acc = ConectarAccess(arquivo_base)\n",
    "\n",
    "ajuste_tipo = acc.select(f\"\"\"\n",
    "        SELECT [chave], [valor]\n",
    "        FROM {tabela_regra}\n",
    "        WHERE [nome_regra] = 'Tipo_Lançamento_cc'\n",
    "        \"\"\")\n",
    "acc.close()"
   ]
  },
  {
   "cell_type": "code",
   "execution_count": 11,
   "metadata": {},
   "outputs": [],
   "source": [
    "for ajs in ajuste_tipo:\n",
    "    df.loc[df['Historico'].str.contains(ajs[0]), 'Tipo_Historico']=ajs[1]\n",
    "\n",
    "df['Tipo_Historico'] = df['Tipo_Historico'].fillna('')"
   ]
  },
  {
   "cell_type": "markdown",
   "metadata": {},
   "source": [
    "# Insere informação na Base de Dados"
   ]
  },
  {
   "cell_type": "code",
   "execution_count": null,
   "metadata": {},
   "outputs": [],
   "source": [
    "# Instancia o objeto que faz as conexões com a base de dados\n",
    "acc = ConectarAccess(arquivo_base)\n",
    "\n",
    "# Verifica se existe dados na base e caso exista exclui\n",
    "# Isso é para permitir reprocessamento\n",
    "\n",
    "for mes in df['mes_extrato'].unique():\n",
    "    print(f'[INFO] Inserindo informações para {mes}')\n",
    "    verifica = acc.select(f\"\"\"\n",
    "        SELECT COUNT(mes_extrato)\n",
    "        FROM {tabela_extrato}\n",
    "        WHERE mes_extrato = '{mes}' \n",
    "        \"\"\")[0][0]\n",
    "    if verifica:\n",
    "        print(f\"[INFO] Dados presente para Arquivo {mes}... Deletando dados da base\")\n",
    "        acc.delete(f\"DELETE FROM {tabela_extrato} WHERE mes_extrato = '{mes}'\")\n",
    "\n",
    "acc.insertAcc(df, tabela_extrato)\n",
    "print('[INFO] Dados Inseridos com sucesso')\n",
    "\n",
    "# Fecha a conexão\n",
    "acc.close()"
   ]
  },
  {
   "cell_type": "markdown",
   "metadata": {},
   "source": [
    "# Validação\n",
    "### Validaçao do Saldo final"
   ]
  },
  {
   "cell_type": "code",
   "execution_count": null,
   "metadata": {},
   "outputs": [],
   "source": [
    "for mes in df.mes_extrato.unique():\n",
    "    d = df[df.mes_extrato == mes]\n",
    "\n",
    "    if d[d.Historico == 'S A L D O'].Valor.iloc[0] - d.Valor.sum()/2 < 0.0001:\n",
    "        print(f\"Saldo verificado para Arquivo {mes}\")"
   ]
  },
  {
   "cell_type": "code",
   "execution_count": null,
   "metadata": {},
   "outputs": [],
   "source": []
  }
 ],
 "metadata": {
  "kernelspec": {
   "display_name": "Python 3",
   "language": "python",
   "name": "python3"
  },
  "language_info": {
   "codemirror_mode": {
    "name": "ipython",
    "version": 3
   },
   "file_extension": ".py",
   "mimetype": "text/x-python",
   "name": "python",
   "nbconvert_exporter": "python",
   "pygments_lexer": "ipython3",
   "version": "3.10.11"
  },
  "orig_nbformat": 4
 },
 "nbformat": 4,
 "nbformat_minor": 2
}
