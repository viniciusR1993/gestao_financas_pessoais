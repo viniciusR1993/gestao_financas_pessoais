{
 "cells": [
  {
   "attachments": {},
   "cell_type": "markdown",
   "metadata": {},
   "source": [
    "# Importa Pacotes"
   ]
  },
  {
   "cell_type": "code",
   "execution_count": 13,
   "metadata": {},
   "outputs": [],
   "source": [
    "import os\n",
    "import re\n",
    "import locale\n",
    "import numpy as np\n",
    "import pandas as pd\n",
    "from datetime import datetime, date\n",
    "from dateutil.relativedelta import relativedelta\n",
    "from gestao import ConectarAccess"
   ]
  },
  {
   "attachments": {},
   "cell_type": "markdown",
   "metadata": {},
   "source": [
    "# Definição de variaveis e pré-produção"
   ]
  },
  {
   "cell_type": "code",
   "execution_count": null,
   "metadata": {},
   "outputs": [],
   "source": [
    "# Variáveis Definidas\n",
    "dia_vencimento = 20\n",
    "caminho_input = \"C:/Users/vinir/Downloads/\"\n",
    "caminho_backup = \"./Faturas Cartões/\"\n",
    "\n",
    "# Regex com o nome do arquivo, o primeiro grupo é o cartão e o segundo é mes da fatura\n",
    "regex_nome_arquivo = \"OUROCARD_([A-Z_]+)-(.*)\\.txt\"\n",
    "regex_nome_arquivo_smile = \"([A-Z_]+)-(.*)\\.txt\"\n",
    "mask_arquivos = [\n",
    "                 ('OUROCARD_ELO_GRAFITE.*', 'ELO GRAFITE') , \n",
    "                 ('OUROCARD_PLATINUM_VISA.*', 'PLATINUM VISA'),\n",
    "                 ('OUROCARD_ELO_NANQUIM.*', 'ELO NANQUIM'),\n",
    "                 ('SMILES_INFINITE_VISA.*','VISA INFINITE')\n",
    "                ]\n",
    "\n",
    "# Lista de ajuste do Tipo de Lancamento (Corrige o que vem da fatura)\n",
    "ajuste_tipo = [('ASSAI','Supermercados'),('SUPER ADEGA','Supermercados')]\n",
    "\n",
    "# Informações de base de dados\n",
    "tabela_historico = '[historico_cartao]'\n",
    "arquivo_base = 'GestaoFinanceira1'\n",
    "\n",
    "#Variaveis de desenvolvimento\n",
    "producao=True\n",
    "\n",
    "print(f\">> Execução em Produção: {producao}\")\n",
    "print(f\">> Dia de Vencimento da Fatura: {dia_vencimento}\")\n",
    "print(f\">> Pasta de Leitura dos arquivos de entrada: {caminho_input}\")\n",
    "print(f\">> Arquivo com a Base em Access: {arquivo_base}\")\n",
    "print(f\">> Tabela Com o Historico do Cartão: {tabela_historico}\")\n",
    "print(f\">> Cartões: {', '.join([m[1] for m in mask_arquivos])}\")\n",
    "print(f\">> Mascaras dos Arquivos: {', '.join([m[0] for m in mask_arquivos])}\")"
   ]
  },
  {
   "attachments": {},
   "cell_type": "markdown",
   "metadata": {},
   "source": [
    "# Configuração do ambientes"
   ]
  },
  {
   "cell_type": "code",
   "execution_count": null,
   "metadata": {},
   "outputs": [],
   "source": [
    "# Essa configuração é para o datetime entender os meses como mês Brasil\n",
    "locale.setlocale(locale.LC_ALL, 'pt_BR.utf8')"
   ]
  },
  {
   "attachments": {},
   "cell_type": "markdown",
   "metadata": {},
   "source": [
    "# Verificando arquivos presente na pasta"
   ]
  },
  {
   "cell_type": "code",
   "execution_count": null,
   "metadata": {},
   "outputs": [],
   "source": [
    "files = []\n",
    "for diretorio, subpastas, arquivos in os.walk(caminho_input):\n",
    "    for arquivo in arquivos:\n",
    "        for mask in mask_arquivos:\n",
    "            if re.match(mask[0], arquivo):\n",
    "                files.append(f\"{diretorio}{arquivo}\")\n",
    "                print(f'[INFO] Localizado arquivo {arquivo}')"
   ]
  },
  {
   "attachments": {},
   "cell_type": "markdown",
   "metadata": {},
   "source": [
    "# Lendo os arquivos"
   ]
  },
  {
   "cell_type": "code",
   "execution_count": null,
   "metadata": {},
   "outputs": [],
   "source": [
    "lista_lancamentos = []\n",
    "total_fatura = []\n",
    "for file in files:\n",
    "    print(f'[INFO] Lendo o arquivo {file}')\n",
    "    df = open(file, 'r') # Abre o arquivo de texto   \n",
    "    # Essa condição é devido o cartão smile não ser Ourocard (tem nome diferente dos demais)\n",
    "    if 'SMILES' in file:\n",
    "        cartao = re.search(regex_nome_arquivo_smile, file).group(1).replace('_', ' ') \n",
    "    else:         \n",
    "        cartao = re.search(regex_nome_arquivo, file).group(1).replace('_', ' ')  \n",
    "    arquivo = file.replace(caminho_input,'')\n",
    "    saldo_anterior = 0\n",
    "\n",
    "    # Verifica se trata-se da próxima fatura\n",
    "    if \"Próxima_Fatura\" in file: \n",
    "        prx_fat = True \n",
    "    else: \n",
    "        prx_fat = False\n",
    "    prx_fat_parcelas = False\n",
    "\n",
    "    l = df.readline()\n",
    "    index = 0\n",
    "\n",
    "    while l != '':\n",
    "        index = index + 1\n",
    "\n",
    "        # Captura saldo anterior para validação\n",
    "        if 'SALDO FATURA ANTERIOR' in l:\n",
    "            if prx_fat:\n",
    "                saldo_anterior = float(l[59:74].strip().replace(\".\",\"\").replace(\",\",\".\"))\n",
    "            else:\n",
    "                saldo_anterior = float(l[59:72].strip().replace(\".\",\"\").replace(\",\",\".\"))\n",
    "\n",
    "        # Condição de fim do arquivo\n",
    "        if 'SubTotal' in l:\n",
    "            # Lista para validação final\n",
    "            total_fatura.append((arquivo,float(l[58:71].strip().replace(\".\",\"\").replace(\",\",\".\")),saldo_anterior))\n",
    "            break\n",
    "    \n",
    "        # Condição de quando existe compra internacinoal\n",
    "        if '*** ' in l:\n",
    "            print(f\"[WARNING] Localizado compra internacional: {transacao}\")\n",
    "            print(f\"[WARNING] O valor total da fatura pode divergir do total cobrado em conta corrente, devido o total da fatura não considera compras internacionais.\")\n",
    "            print(f\"[WARNING] O DataFrame considera todas as compras, dessa forma condizente com o valor cobrando em conta corrente\")\n",
    "            l = df.readline()\n",
    "            l = df.readline()\n",
    "            l = df.readline()\n",
    "\n",
    "        # Diversas condições para pegar apenas os lancamentos\n",
    "        if l.strip() != '' and\\\n",
    "            ('.' in l[53:] or ',' in l[53:]) and\\\n",
    "            not('-----------' in tipo_lancamento) and\\\n",
    "            not('Saques' in l) and\\\n",
    "            not('SALDO FATURA ANTERIOR' in l) and\\\n",
    "            not('PGTO DEBITO CONTA' in l):\n",
    "            #print(l)\n",
    "            \n",
    "            parcela = ''\n",
    "            lancada = True\n",
    "\n",
    "            if prx_fat:\n",
    "                vencimento = datetime.now().date()\n",
    "                data = l[0:5].strip() + \"/\" + ano\n",
    "                valor = float(l[59:74].strip().replace(\".\",\"\").replace(\",\",\".\"))\n",
    "                transacao = l[9:32].strip().replace(\"  \",\"\")\n",
    "            elif prx_fat_parcelas:\n",
    "                vencimento = datetime.now().date()\n",
    "                data = l[0:5].strip() + \"/\" + ano\n",
    "                valor = float(l[59:74].strip().replace(\".\",\"\").replace(\",\",\".\"))\n",
    "                transacao = l[10:24].strip().replace(\"  \",\"\")\n",
    "                pracela = l[29:34].strip()\n",
    "            else:\n",
    "                # Essa condição é devido o cartão smile não ser Ourocard (tem nome diferente dos demais)\n",
    "                if 'SMILES' in file:\n",
    "                    vencimento = re.search(regex_nome_arquivo_smile, file).group(2)\n",
    "                else:\n",
    "                    vencimento = re.search(regex_nome_arquivo, file).group(2)\n",
    "                vencimento = datetime.strptime(f\"{vencimento} {dia_vencimento}\", '%b_%y %d').date()\n",
    "                data = l[0:10].strip()\n",
    "                valor = l[59:72].strip().replace(\".\",\"\").replace(\",\",\".\")\n",
    "                transacao = l[10:32].strip()\n",
    "\n",
    "            if tipo_lancamento == 'Compras parceladas':\n",
    "                if 'ANTEC ' in transacao:\n",
    "                    transacao = l[10:24].strip()\n",
    "                else:\n",
    "                    transacao = l[10:23].strip()\n",
    "                    parcela = l[29:34].strip()\n",
    "                    \n",
    "\n",
    "            if tipo_lancamento != '':\n",
    "                lista_lancamentos.append(\n",
    "                    [\n",
    "                        datetime.strptime(data.replace(\".\",\"/\"), '%d/%m/%Y').date(),\n",
    "                        transacao, \n",
    "                        tipo_lancamento, \n",
    "                        float(valor), \n",
    "                        parcela, \n",
    "                        cartao, \n",
    "                        vencimento,\n",
    "                        lancada,\n",
    "                        arquivo,\n",
    "                        index\n",
    "                    ]\n",
    "                )\n",
    "        else:\n",
    "            if not('PGTO DEBITO CONTA' in l): \n",
    "                tipo_lancamento = l.strip() #Define o tipo de lançamento\n",
    "            if \"Auto-Atendimento\" in l: ano = l[6:10]\n",
    "            # Quando começa a verifica as compras parcelas da próxima fatura\n",
    "            if 'Compras/Pagamento de contas parceladas' in l and prx_fat: \n",
    "                prx_fat_parcelas = True\n",
    "\n",
    "\n",
    "        l = df.readline()\n",
    "    df.close()\n",
    "\n",
    "    # Cria o dataFrame pandas e exporta para csv\n",
    "    df_presente = pd.DataFrame(np.array(lista_lancamentos),\n",
    "                                columns=[\n",
    "                                            'Data_Compra',\n",
    "                                            'Lancamento',\n",
    "                                            'Tipo_Lancamento',\n",
    "                                            'Valor',\n",
    "                                            'Parcela',\n",
    "                                            'Cartao',\n",
    "                                            'Vencimento',\n",
    "                                            'Lancada',\n",
    "                                            'Arquivo',\n",
    "                                            'Codigo'\n",
    "                                        ]\n",
    "                                ) \n",
    "\n",
    "    if producao:\n",
    "        print(f\"[INFO] Movendo arquivo {file} para pasta {caminho_backup}\")\n",
    "        if os.path.exists(f\"{caminho_backup}{file.replace(caminho_input,'')}\"):\n",
    "            os.remove(f\"{caminho_backup}{file.replace(caminho_input,'')}\")\n",
    "        os.rename(file, f\"{caminho_backup}{file.replace(caminho_input,'')}\")\n",
    "        #os.remove(file)"
   ]
  },
  {
   "attachments": {},
   "cell_type": "markdown",
   "metadata": {},
   "source": [
    "# Ajustes dos dados\n",
    "### Ajuste dos tipos de lançamentos"
   ]
  },
  {
   "cell_type": "code",
   "execution_count": 36,
   "metadata": {},
   "outputs": [],
   "source": [
    "for ajs in ajuste_tipo:\n",
    "    df_presente.loc[df_presente.Lancamento.str.contains(ajs[0]), 'Tipo_Lancamento']=ajs[1]"
   ]
  },
  {
   "attachments": {},
   "cell_type": "markdown",
   "metadata": {},
   "source": [
    "### Ajuste da data do vencimento da próxima fatura"
   ]
  },
  {
   "cell_type": "code",
   "execution_count": null,
   "metadata": {},
   "outputs": [],
   "source": [
    "# Instancia o objeto que faz as conexões com a base de dados\n",
    "acc = ConectarAccess(arquivo_base)\n",
    "\n",
    "# Verifica a maior data presente na base que não é a próxima fatura\n",
    "proximo_vencimento = acc.select(\"\"\"\n",
    "    SELECT MAX([Vencimento]) \n",
    "    FROM [historico_cartao] \n",
    "    WHERE NOT([Arquivo] LIKE '%Próxima%')\n",
    "\"\"\")[0][0].date()\n",
    "\n",
    "# Faz o máximo entre o maximo da base e o maximo do dataframe que não é a próxima fatura\n",
    "max_df = df_presente[df_presente.Vencimento != datetime.now().date()].Vencimento.to_list()\n",
    "if not(len(max_df) == 0):   \n",
    "    proximo_vencimento = max(max(set(df_presente[df_presente.Vencimento != datetime.now().date()].Vencimento.to_list())), \n",
    "                         proximo_vencimento) + \\\n",
    "                    relativedelta(months=+1)\n",
    "else:\n",
    "    proximo_vencimento = proximo_vencimento + relativedelta(months=+1)\n",
    "\n",
    "acc.close()\n",
    "\n",
    "df_presente.loc[df_presente.Vencimento == datetime.now().date(), 'Vencimento'] = proximo_vencimento\n",
    "\n",
    "print(f'Proximo Vencimento será {proximo_vencimento}')"
   ]
  },
  {
   "attachments": {},
   "cell_type": "markdown",
   "metadata": {},
   "source": [
    "# Insere informação na Base de Dados"
   ]
  },
  {
   "cell_type": "code",
   "execution_count": null,
   "metadata": {},
   "outputs": [],
   "source": [
    "# Instancia o objeto que faz as conexões com a base de dados\n",
    "acc = ConectarAccess(arquivo_base)\n",
    "\n",
    "# Verifica se existe dados na base e caso exista exclui\n",
    "# Isso é para permitir reprocessamento\n",
    "for arq in df_presente.Arquivo.unique():\n",
    "    verifica = acc.select(f\"\"\"\n",
    "        SELECT COUNT(Arquivo)\n",
    "        FROM {tabela_historico}\n",
    "        WHERE Arquivo = '{arq}' \n",
    "        \"\"\")[0][0]\n",
    "    if verifica:\n",
    "        print(f\"[INFO] Dados presente para Arquivo {arq}... Deletando dados da base\")\n",
    "        acc.delete(f\"DELETE FROM {tabela_historico} WHERE Arquivo = '{arq}'\")\n",
    "\n",
    "acc.insertAcc(df_presente, tabela_historico)\n",
    "print('[INFO] Dados Inseridos com sucesso')\n",
    "\n",
    "# Fecha a conexão\n",
    "acc.close()"
   ]
  },
  {
   "attachments": {},
   "cell_type": "markdown",
   "metadata": {},
   "source": [
    "# Validação"
   ]
  },
  {
   "attachments": {},
   "cell_type": "markdown",
   "metadata": {},
   "source": [
    "### Verificando Total Localizado na Fatura com o Total do DataFrame"
   ]
  },
  {
   "cell_type": "code",
   "execution_count": null,
   "metadata": {},
   "outputs": [],
   "source": [
    "for tt in total_fatura:\n",
    "    tota_df = df_presente[df_presente.Arquivo == tt[0]][['Arquivo','Valor']].groupby(['Arquivo']).sum().Valor.iloc[0]\n",
    "    if abs(tota_df - tt[1]) < 0.0000001:\n",
    "        print(f\"[INFO] Total do Arquivo igual ao capturado no DataFrame para o Arquivo: {tt[0]}\")\n",
    "    else:\n",
    "        if abs(abs(tt[2] - tt[1])-tota_df) < 0.0000001:\n",
    "            print(f\"[INFO] Total do Arquivo diverge do Dataframe devido não pagamento da fatura: {tt[0]}\")\n",
    "            #print(f\"[INFO] Total do Arquivo igual ao capturado no DataFrame para o Arquivo: {tt[0]}\")\n",
    "        else:\n",
    "            print(f\"[WARNING] Total do Arquivo diferente do capturado no DataFrame para o Arquivo: {tt[0]}\")\n",
    "            print(f\"[WARNING] Total catura no Dataframe: R$ {tota_df:,.2f}\")\n",
    "            print(f\"[WARNING] Total no Arquivo: R$ {tt[1]:,.2f}\")"
   ]
  },
  {
   "attachments": {},
   "cell_type": "markdown",
   "metadata": {},
   "source": [
    "### Vizualizando o Total Capturado"
   ]
  },
  {
   "cell_type": "code",
   "execution_count": null,
   "metadata": {},
   "outputs": [],
   "source": [
    "df_presente.groupby('Arquivo')['Valor'].sum()"
   ]
  },
  {
   "attachments": {},
   "cell_type": "markdown",
   "metadata": {},
   "source": [
    "### Validando Contagem de Compras"
   ]
  },
  {
   "cell_type": "code",
   "execution_count": null,
   "metadata": {},
   "outputs": [],
   "source": [
    "df_presente.groupby('Arquivo')['Valor'].count()"
   ]
  },
  {
   "cell_type": "code",
   "execution_count": null,
   "metadata": {},
   "outputs": [],
   "source": []
  }
 ],
 "metadata": {
  "kernelspec": {
   "display_name": "Python 3 (ipykernel)",
   "language": "python",
   "name": "python3"
  },
  "language_info": {
   "codemirror_mode": {
    "name": "ipython",
    "version": 3
   },
   "file_extension": ".py",
   "mimetype": "text/x-python",
   "name": "python",
   "nbconvert_exporter": "python",
   "pygments_lexer": "ipython3",
   "version": "3.10.11"
  }
 },
 "nbformat": 4,
 "nbformat_minor": 4
}
