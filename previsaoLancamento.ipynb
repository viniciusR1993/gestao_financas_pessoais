{
 "cells": [
  {
   "cell_type": "markdown",
   "metadata": {},
   "source": [
    "# Imports Necessários"
   ]
  },
  {
   "cell_type": "code",
   "execution_count": 15,
   "metadata": {},
   "outputs": [],
   "source": [
    "#import os\n",
    "import locale\n",
    "import numpy as np\n",
    "import pandas as pd\n",
    "from datetime import datetime, date\n",
    "from dateutil.relativedelta import relativedelta\n",
    "from gestao import ConectarAccess"
   ]
  },
  {
   "cell_type": "markdown",
   "metadata": {},
   "source": [
    "# Definição de Variáveis e pré produção"
   ]
  },
  {
   "cell_type": "code",
   "execution_count": 16,
   "metadata": {},
   "outputs": [
    {
     "name": "stdout",
     "output_type": "stream",
     "text": [
      ">> Tabela Com o Historico do Cartão: [historico_cartao]\n",
      ">> Tabela Com o Extrato da Conta Corrente: [extrato_cc]\n",
      ">> Tabela Para Ser Inserido os Lançamentos previsto: [previsao_lancamento]\n"
     ]
    }
   ],
   "source": [
    "# Informações de base de dados\n",
    "tabela_cartao = '[historico_cartao]'\n",
    "tabela_cc = '[extrato_cc]'\n",
    "tabela_previsao = '[previsao_lancamento]'\n",
    "arquivo_base = 'GestaoFinanceira1'\n",
    "\n",
    "print(f\">> Tabela Com o Historico do Cartão: {tabela_cartao}\")\n",
    "print(f\">> Tabela Com o Extrato da Conta Corrente: {tabela_cc}\")\n",
    "print(f\">> Tabela Para Ser Inserido os Lançamentos previsto: {tabela_previsao}\")"
   ]
  },
  {
   "cell_type": "markdown",
   "metadata": {},
   "source": [
    "# Configuração de ambiente"
   ]
  },
  {
   "cell_type": "code",
   "execution_count": 17,
   "metadata": {},
   "outputs": [
    {
     "data": {
      "text/plain": [
       "'pt_BR.utf8'"
      ]
     },
     "execution_count": 17,
     "metadata": {},
     "output_type": "execute_result"
    }
   ],
   "source": [
    "# Essa configuração é para o datetime entender os meses como mês Brasil\n",
    "locale.setlocale(locale.LC_ALL, 'pt_BR.utf8')"
   ]
  },
  {
   "cell_type": "markdown",
   "metadata": {},
   "source": [
    "# Captura de Dados nas bases\n",
    "### Trazendo para o jupyter os dados da base"
   ]
  },
  {
   "cell_type": "code",
   "execution_count": 18,
   "metadata": {},
   "outputs": [
    {
     "name": "stdout",
     "output_type": "stream",
     "text": [
      "[INFO] Dados Capturados na Base de Informação\n"
     ]
    }
   ],
   "source": [
    "acc = ConectarAccess(arquivo_base)\n",
    "\n",
    "# Base do cartão de crédito\n",
    "colunas_cartao=['Codigo','Cartao','Data_Compra','Lancamento','Tipo_Lancamento','Valor','Parcela','Lancada','Vencimento','Arquivo']\n",
    "base_cartao = acc.select(f\"\"\"SELECT * FROM {tabela_cartao} \"\"\")\n",
    "base_cartao = pd.DataFrame([[a,b,c,d,e,f,g,h,i,j] for (a,b,c,d,e,f,g,h,i,j) in base_cartao], \n",
    "                columns=colunas_cartao)\n",
    "\n",
    "# Base da conta corrente\n",
    "colunas_cc=['Codigo','Data Lancamento','Dependencia Origem','Historico','Tipo Historico','Data Balancete','Numero Documento','Valor','Mes Extrato']\n",
    "base_cc = acc.select(f\"\"\"SELECT * FROM {tabela_cc} \"\"\")\n",
    "base_cc = pd.DataFrame([[a,b,c,d,e,f,g,h,i] for (a,b,c,d,e,f,g,h,i) in base_cc], \n",
    "                columns=colunas_cc)\n",
    "\n",
    "acc.close()\n",
    "\n",
    "print(\"[INFO] Dados Capturados na Base de Informação\")"
   ]
  },
  {
   "cell_type": "markdown",
   "metadata": {},
   "source": [
    "### Verificando se a data de projeção é da fatura fechada ou abera"
   ]
  },
  {
   "cell_type": "code",
   "execution_count": 19,
   "metadata": {},
   "outputs": [
    {
     "name": "stdout",
     "output_type": "stream",
     "text": [
      "Vencimento em aberto: 2023-12-20\n",
      "Ultimo Fatura Fechada: 2023-11-20\n"
     ]
    }
   ],
   "source": [
    "# Lista de ajuste do Tipo de Historico\n",
    "vencimentos_aberto = base_cartao[base_cartao['Arquivo'].str.contains('Próxima')]['Vencimento'].unique()[0].date()\n",
    "\n",
    "ultimo_vencimentos_fechado = max(\n",
    "                                set(\n",
    "                                    base_cartao[np.invert(\n",
    "                                        base_cartao['Arquivo'].str.contains('Próxima').to_list())]\\\n",
    "                                    ['Vencimento'].unique()\n",
    "                                    )\n",
    "                                ).date()\n",
    "\n",
    "print(f\"Vencimento em aberto: {vencimentos_aberto}\")\n",
    "print(f\"Ultimo Fatura Fechada: {ultimo_vencimentos_fechado}\")"
   ]
  },
  {
   "cell_type": "markdown",
   "metadata": {},
   "source": [
    "### Captura Data Frame com Compras Parceladas da ultima fatura"
   ]
  },
  {
   "cell_type": "code",
   "execution_count": 20,
   "metadata": {},
   "outputs": [],
   "source": [
    "i = 0\n",
    "list_lancamentos_compras_parceladas = []\n",
    "\n",
    "lancamentos_compras_parceladas = base_cartao[base_cartao.Vencimento.astype(str) == str(ultimo_vencimentos_fechado)]\n",
    "\n",
    "while len(lancamentos_compras_parceladas) != 0:\n",
    "    if len(lancamentos_compras_parceladas) == 0:\n",
    "        break\n",
    "\n",
    "    i = i + 1\n",
    "    lancamentos_compras_parceladas = base_cartao[base_cartao.Vencimento.astype(str) == str(ultimo_vencimentos_fechado)]\n",
    "    lancamentos_compras_parceladas = lancamentos_compras_parceladas[lancamentos_compras_parceladas.Parcela != '']\n",
    "\n",
    "    lancamentos_compras_parceladas['Parcela Atual'] = lancamentos_compras_parceladas.Parcela.str[:2].astype(int) + i\n",
    "    lancamentos_compras_parceladas['Quantidade de Parcelas'] = lancamentos_compras_parceladas.Parcela.str[3:].astype(int)\n",
    "\n",
    "    lancamentos_compras_parceladas = lancamentos_compras_parceladas[\n",
    "            lancamentos_compras_parceladas['Parcela Atual'] <= \n",
    "            lancamentos_compras_parceladas['Quantidade de Parcelas']\n",
    "        ]\n",
    "\n",
    "    lancamentos_compras_parceladas['Metodo'] = \"Compras Parceladas da última fatura\"\n",
    "    lancamentos_compras_parceladas['Valor'] = -1*lancamentos_compras_parceladas['Valor']\n",
    "    lancamentos_compras_parceladas['Data_Base'] = ultimo_vencimentos_fechado + relativedelta(months=+i)\n",
    "    lancamentos_compras_parceladas['Lancamento'] = lancamentos_compras_parceladas['Lancamento'] + \\\n",
    "                                                    \" \" + \\\n",
    "                                                    lancamentos_compras_parceladas['Parcela Atual'].astype(str) + \\\n",
    "                                                    \"/\" + \\\n",
    "                                                    lancamentos_compras_parceladas['Quantidade de Parcelas'].astype(str)\n",
    "\n",
    "    #Renomeia as colunas\n",
    "    lancamentos_compras_parceladas = lancamentos_compras_parceladas.rename(columns={\"Data_Compra\": \"Data Lancamento\", \n",
    "                                            \"Lancamento\": \"Historico\",\n",
    "                                            \"Tipo_Lancamento\":\"Tipo Historico\",\n",
    "                                            \"Cartao\":\"Local_Lancado\"})\n",
    "\n",
    "    lancamentos_compras_parceladas['Data Lancamento'] = lancamentos_compras_parceladas['Data Lancamento'].apply(lambda x: x.date())\n",
    "\n",
    "    # Seleciona as colunas\n",
    "    lancamentos_compras_parceladas = lancamentos_compras_parceladas[[\n",
    "        'Data_Base',\n",
    "        'Data Lancamento',\n",
    "        'Historico',\n",
    "        'Tipo Historico',\n",
    "        'Valor',\n",
    "        'Local_Lancado',\n",
    "        'Metodo'\n",
    "    ]]\n",
    "\n",
    "    list_lancamentos_compras_parceladas.append(lancamentos_compras_parceladas)\n",
    "\n",
    "lancamentos_compras_parceladas = pd.concat(list_lancamentos_compras_parceladas)"
   ]
  },
  {
   "cell_type": "markdown",
   "metadata": {},
   "source": [
    "### Captura Data Frame com Compras Recorrentes"
   ]
  },
  {
   "cell_type": "code",
   "execution_count": 21,
   "metadata": {},
   "outputs": [],
   "source": [
    "list_lancamentos_recorrentes = []\n",
    "for dt in [d for d in lancamentos_compras_parceladas.Data_Base.unique()]:\n",
    "    lancamentos_recorrentes = base_cartao[base_cartao.Vencimento.astype(str) == str(ultimo_vencimentos_fechado)]\n",
    "\n",
    "    list_recorrentes = [\"SPOT\", \"NIVEL\", \"HBO\", \"TIM\", \"FGV\"]\n",
    "    list_r = []\n",
    "    for i, row in lancamentos_recorrentes.iterrows():\n",
    "        valida = False\n",
    "        for t in list_recorrentes:\n",
    "            if t in row.Lancamento:\n",
    "                valida = True\n",
    "        list_r.append(valida)\n",
    "\n",
    "    lancamentos_recorrentes = lancamentos_recorrentes[list_r]\n",
    "\n",
    "    lancamentos_recorrentes['Metodo'] = \"Compras Recorrentes\"\n",
    "    lancamentos_recorrentes['Data_Base'] = dt\n",
    "    lancamentos_recorrentes['Valor'] = -1*lancamentos_recorrentes['Valor']\n",
    "\n",
    "    #Renomeia as colunas\n",
    "    lancamentos_recorrentes = lancamentos_recorrentes.rename(columns={\"Data_Compra\": \"Data Lancamento\", \n",
    "                                            \"Lancamento\": \"Historico\",\n",
    "                                            \"Tipo_Lancamento\":\"Tipo Historico\",\n",
    "                                            \"Cartao\":\"Local_Lancado\"})\n",
    "\n",
    "    # Seleciona as colunas\n",
    "    lancamentos_recorrentes = lancamentos_recorrentes[[\n",
    "        'Data Lancamento',\n",
    "        'Historico',\n",
    "        'Tipo Historico',\n",
    "        'Valor',\n",
    "        'Local_Lancado',\n",
    "        'Metodo',\n",
    "        'Data_Base'\n",
    "    ]]\n",
    "\n",
    "    list_lancamentos_recorrentes.append(lancamentos_recorrentes)\n",
    "\n",
    "lancamentos_recorrentes = pd.concat(list_lancamentos_recorrentes)"
   ]
  },
  {
   "cell_type": "markdown",
   "metadata": {},
   "source": [
    "### Captura Data Frame com compras já processadas na fatura aberta"
   ]
  },
  {
   "cell_type": "code",
   "execution_count": 22,
   "metadata": {},
   "outputs": [
    {
     "name": "stderr",
     "output_type": "stream",
     "text": [
      "C:\\Users\\vinir\\AppData\\Local\\Temp\\ipykernel_16156\\2055667222.py:3: SettingWithCopyWarning: \n",
      "A value is trying to be set on a copy of a slice from a DataFrame.\n",
      "Try using .loc[row_indexer,col_indexer] = value instead\n",
      "\n",
      "See the caveats in the documentation: https://pandas.pydata.org/pandas-docs/stable/user_guide/indexing.html#returning-a-view-versus-a-copy\n",
      "  lacamentos_processados['Metodo'] = \"Compras Processadas\"\n",
      "C:\\Users\\vinir\\AppData\\Local\\Temp\\ipykernel_16156\\2055667222.py:4: SettingWithCopyWarning: \n",
      "A value is trying to be set on a copy of a slice from a DataFrame.\n",
      "Try using .loc[row_indexer,col_indexer] = value instead\n",
      "\n",
      "See the caveats in the documentation: https://pandas.pydata.org/pandas-docs/stable/user_guide/indexing.html#returning-a-view-versus-a-copy\n",
      "  lacamentos_processados['Data_Base'] = vencimentos_aberto\n",
      "C:\\Users\\vinir\\AppData\\Local\\Temp\\ipykernel_16156\\2055667222.py:5: SettingWithCopyWarning: \n",
      "A value is trying to be set on a copy of a slice from a DataFrame.\n",
      "Try using .loc[row_indexer,col_indexer] = value instead\n",
      "\n",
      "See the caveats in the documentation: https://pandas.pydata.org/pandas-docs/stable/user_guide/indexing.html#returning-a-view-versus-a-copy\n",
      "  lacamentos_processados['Valor'] = -1*lacamentos_processados['Valor']\n"
     ]
    }
   ],
   "source": [
    "lacamentos_processados = base_cartao[base_cartao.Vencimento.astype(str) == str(vencimentos_aberto)]\n",
    "\n",
    "lacamentos_processados['Metodo'] = \"Compras Processadas\"\n",
    "lacamentos_processados['Data_Base'] = vencimentos_aberto\n",
    "lacamentos_processados['Valor'] = -1*lacamentos_processados['Valor']\n",
    "#Renomeia as colunas\n",
    "lacamentos_processados = lacamentos_processados.rename(columns={\"Data_Compra\": \"Data Lancamento\", \n",
    "                                        \"Lancamento\": \"Historico\",\n",
    "                                        \"Tipo_Lancamento\":\"Tipo Historico\",\n",
    "                                        \"Cartao\":\"Local_Lancado\"})\n",
    "lacamentos_processados['Data Lancamento'] = lacamentos_processados['Data Lancamento'].apply(lambda x: x.date())\n",
    "\n",
    "# Seleciona as colunas\n",
    "lacamentos_processados = lacamentos_processados[[\n",
    "    'Data Lancamento',\n",
    "    'Historico',\n",
    "    'Tipo Historico',\n",
    "    'Valor',\n",
    "    'Local_Lancado',\n",
    "    'Metodo',\n",
    "    'Data_Base'\n",
    "]]"
   ]
  },
  {
   "cell_type": "markdown",
   "metadata": {},
   "source": [
    "### Captura Data Frame com a ultima fatura fechada"
   ]
  },
  {
   "cell_type": "code",
   "execution_count": 23,
   "metadata": {},
   "outputs": [
    {
     "name": "stderr",
     "output_type": "stream",
     "text": [
      "C:\\Users\\vinir\\AppData\\Local\\Temp\\ipykernel_16156\\3929059510.py:2: SettingWithCopyWarning: \n",
      "A value is trying to be set on a copy of a slice from a DataFrame.\n",
      "Try using .loc[row_indexer,col_indexer] = value instead\n",
      "\n",
      "See the caveats in the documentation: https://pandas.pydata.org/pandas-docs/stable/user_guide/indexing.html#returning-a-view-versus-a-copy\n",
      "  lancamento_fatura_fechada['Metodo'] = \"Ultma Fatura Fechada\"\n",
      "C:\\Users\\vinir\\AppData\\Local\\Temp\\ipykernel_16156\\3929059510.py:3: SettingWithCopyWarning: \n",
      "A value is trying to be set on a copy of a slice from a DataFrame.\n",
      "Try using .loc[row_indexer,col_indexer] = value instead\n",
      "\n",
      "See the caveats in the documentation: https://pandas.pydata.org/pandas-docs/stable/user_guide/indexing.html#returning-a-view-versus-a-copy\n",
      "  lancamento_fatura_fechada['Data_Base'] = ultimo_vencimentos_fechado\n",
      "C:\\Users\\vinir\\AppData\\Local\\Temp\\ipykernel_16156\\3929059510.py:4: SettingWithCopyWarning: \n",
      "A value is trying to be set on a copy of a slice from a DataFrame.\n",
      "Try using .loc[row_indexer,col_indexer] = value instead\n",
      "\n",
      "See the caveats in the documentation: https://pandas.pydata.org/pandas-docs/stable/user_guide/indexing.html#returning-a-view-versus-a-copy\n",
      "  lancamento_fatura_fechada['Valor'] = -1*lancamento_fatura_fechada['Valor']\n"
     ]
    }
   ],
   "source": [
    "lancamento_fatura_fechada = base_cartao[base_cartao.Vencimento.astype(str) == str(ultimo_vencimentos_fechado)]\n",
    "lancamento_fatura_fechada['Metodo'] = \"Ultma Fatura Fechada\"\n",
    "lancamento_fatura_fechada['Data_Base'] = ultimo_vencimentos_fechado\n",
    "lancamento_fatura_fechada['Valor'] = -1*lancamento_fatura_fechada['Valor']\n",
    "\n",
    "#Renomeia as colunas\n",
    "lancamento_fatura_fechada = lancamento_fatura_fechada.rename(columns={\"Data_Compra\": \"Data Lancamento\", \n",
    "                                          \"Lancamento\": \"Historico\",\n",
    "                                          \"Tipo_Lancamento\":\"Tipo Historico\",\n",
    "                                          \"Cartao\":\"Local_Lancado\"})\n",
    "\n",
    "# Seleciona as colunas\n",
    "lancamento_fatura_fechada = lancamento_fatura_fechada[[\n",
    "    'Data Lancamento',\n",
    "    'Historico',\n",
    "    'Tipo Historico',\n",
    "    'Valor',\n",
    "    'Local_Lancado',\n",
    "    'Metodo',\n",
    "    'Data_Base'\n",
    "]]"
   ]
  },
  {
   "cell_type": "markdown",
   "metadata": {},
   "source": [
    "### Captura Data Frame com valores lançados em conta correntes"
   ]
  },
  {
   "cell_type": "code",
   "execution_count": 24,
   "metadata": {},
   "outputs": [],
   "source": [
    "list_lancamentos_cc = []\n",
    "lista_data = [d for d in lancamentos_compras_parceladas.Data_Base.unique()]\n",
    "lista_data.append(ultimo_vencimentos_fechado)\n",
    "for dt in lista_data:\n",
    "    base_cc['Vencimento Cartao'] = base_cc['Mes Extrato'].apply(lambda x: date(int(x[:4]),int(x[4:]),20))\n",
    "    lancamentos_cc = base_cc[base_cc['Vencimento Cartao'] == ultimo_vencimentos_fechado + relativedelta(months=-1)]\n",
    "    list_tipos_lancamento = ['Casa', 'Emprestimo', 'Educação', 'Pagamento BB']\n",
    "    list_r = []\n",
    "    for i, row in lancamentos_cc.iterrows():\n",
    "        if row['Tipo Historico'] in  list_tipos_lancamento:\n",
    "            list_r.append(True)\n",
    "        else:\n",
    "            list_r.append(False)\n",
    "\n",
    "    lancamentos_cc = lancamentos_cc[list_r]\n",
    "    lancamentos_cc['Local_Lancado'] = 'Conta Corrente'\n",
    "    lancamentos_cc['Metodo'] = 'Lancamentos Recorrentes em Conta Corrente'\n",
    "    lancamentos_cc['Data_Base'] = dt\n",
    "\n",
    "    #Renomeia as colunas\n",
    "    lancamentos_cc = lancamentos_cc.rename(columns={\"Data_Compra\": \"Data Lancamento\", \n",
    "                                            \"Lancamento\": \"Historico\",\n",
    "                                            \"Tipo_Lancamento\":\"Tipo Historico\",\n",
    "                                            \"Vencimento Cartao\":\"Vencimento\"})\n",
    "\n",
    "    # Seleciona as colunas\n",
    "    lancamentos_cc = lancamentos_cc[[\n",
    "        'Data Lancamento',\n",
    "        'Historico',\n",
    "        'Tipo Historico',\n",
    "        'Valor',\n",
    "        'Local_Lancado',\n",
    "        'Metodo',\n",
    "        'Data_Base'\n",
    "    ]]\n",
    "\n",
    "    list_lancamentos_cc.append(lancamentos_cc)\n",
    "lancamentos_cc = pd.concat(list_lancamentos_cc)"
   ]
  },
  {
   "cell_type": "markdown",
   "metadata": {},
   "source": [
    "# Ajustes\n",
    "### Ajuste de compras parceladas já lançadas"
   ]
  },
  {
   "cell_type": "code",
   "execution_count": 25,
   "metadata": {},
   "outputs": [],
   "source": [
    "proxima_compras_parceladas = lancamentos_compras_parceladas\\\n",
    "                        [lancamentos_compras_parceladas.Data_Base == vencimentos_aberto]\n",
    "\n",
    "list_proxima_compras_parceladas = []\n",
    "for i,row_pc in proxima_compras_parceladas.iterrows():\n",
    "    verifica = True\n",
    "    for i,row_pr in lacamentos_processados.iterrows():\n",
    "        bol_filter = (abs(abs(row_pc.Valor) - abs(row_pr.Valor)) < 0.1) and\\\n",
    "                    (row_pc['Data Lancamento'].day == row_pr['Data Lancamento'].day)\n",
    "        if bol_filter:\n",
    "            verifica = False\n",
    "    list_proxima_compras_parceladas.append(verifica)\n",
    "\n",
    "parcelas_nao_processadas = proxima_compras_parceladas[list_proxima_compras_parceladas]\n",
    "lancamentos_compras_parceladas = pd.concat([lancamentos_compras_parceladas\\\n",
    "                        [lancamentos_compras_parceladas.Data_Base != vencimentos_aberto],\n",
    "                        parcelas_nao_processadas])\n"
   ]
  },
  {
   "cell_type": "markdown",
   "metadata": {},
   "source": [
    "# Concatena os Data Frames"
   ]
  },
  {
   "cell_type": "code",
   "execution_count": 26,
   "metadata": {},
   "outputs": [],
   "source": [
    "df_final = pd.concat([lancamento_fatura_fechada,\n",
    "                        lancamentos_cc,\n",
    "                        lancamentos_compras_parceladas,\n",
    "                        lancamentos_recorrentes,\n",
    "                        lacamentos_processados\n",
    "                    ])\n",
    "    \n",
    "#Renomeia as colunas\n",
    "df_final = df_final.rename(columns={\"Data Lancamento\":\"Data_Lancamento\",\n",
    "                                    \"Tipo Historico\":\"Tipo_Historico\",})\n",
    "\n",
    "df_final.Valor = df_final.Valor.apply(lambda x: round(x,2))"
   ]
  },
  {
   "cell_type": "markdown",
   "metadata": {},
   "source": [
    "# Carrega dados na base"
   ]
  },
  {
   "cell_type": "code",
   "execution_count": 27,
   "metadata": {},
   "outputs": [
    {
     "name": "stdout",
     "output_type": "stream",
     "text": [
      "[INFOR] Deletando dados na tabela de projeção\n",
      "[INFO] Dados Inseridos com sucesso na tabela de previsão\n"
     ]
    }
   ],
   "source": [
    "# Instancia o objeto que faz as conexões com a base de dados\n",
    "acc = ConectarAccess(arquivo_base)\n",
    "\n",
    "print(\"[INFOR] Deletando dados na tabela de projeção\")\n",
    "acc.delete(f\"DELETE FROM {tabela_previsao}\")\n",
    "\n",
    "acc.insertAcc(df_final, tabela_previsao)\n",
    "print('[INFO] Dados Inseridos com sucesso na tabela de previsão')\n",
    "\n",
    "# Fecha a conexão\n",
    "acc.close()"
   ]
  },
  {
   "cell_type": "code",
   "execution_count": null,
   "metadata": {},
   "outputs": [],
   "source": [
    "    "
   ]
  }
 ],
 "metadata": {
  "kernelspec": {
   "display_name": "Python 3",
   "language": "python",
   "name": "python3"
  },
  "language_info": {
   "codemirror_mode": {
    "name": "ipython",
    "version": 3
   },
   "file_extension": ".py",
   "mimetype": "text/x-python",
   "name": "python",
   "nbconvert_exporter": "python",
   "pygments_lexer": "ipython3",
   "version": "3.10.11"
  },
  "orig_nbformat": 4
 },
 "nbformat": 4,
 "nbformat_minor": 2
}
